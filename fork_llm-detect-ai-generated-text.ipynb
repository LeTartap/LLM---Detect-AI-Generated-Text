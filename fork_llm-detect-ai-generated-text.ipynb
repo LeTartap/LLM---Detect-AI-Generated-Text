{
 "metadata": {
  "kernelspec": {
   "language": "python",
   "display_name": "Python 3",
   "name": "python3"
  },
  "language_info": {
   "name": "python",
   "version": "3.10.12",
   "mimetype": "text/x-python",
   "codemirror_mode": {
    "name": "ipython",
    "version": 3
   },
   "pygments_lexer": "ipython3",
   "nbconvert_exporter": "python",
   "file_extension": ".py"
  }
 },
 "nbformat_minor": 4,
 "nbformat": 4,
 "cells": [
  {
   "source": "<a href=\"https://www.kaggle.com/code/vidhikishorwaghela/llm-detect-ai-generated-text?scriptVersionId=187822363\" target=\"_blank\"><img align=\"left\" alt=\"Kaggle\" title=\"Open in Kaggle\" src=\"https://kaggle.com/static/images/open-in-kaggle.svg\"></a>",
   "metadata": {},
   "cell_type": "markdown"
  },
  {
   "cell_type": "markdown",
   "source": "# AI-Generated Text Detection using BERT\n\nAI-Generated Text Detection project! In this project, I present a robust solution for detecting AI-generated text using BERT, a cutting-edge natural language processing model. Whether you're a researcher, developer, or a curious enthusiast, this project empowers you to explore, understand, and combat AI-generated content effectively.\n\n# BERT, \nAn acronym for Bidirectional Encoder Representations from Transformers, stands as an open-source machine learning framework designed for the realm of natural language processing (NLP). Originating in 2018, this framework was crafted by researchers from Google AI Language. The article aims to explore the architecture, working and applications of BERT.\n\n# What is BERT?\nBERT (Bidirectional Encoder Representations from Transformers) leverages a transformer-based neural network to understand and generate human-like language. BERT employs an encoder-only architecture. In the original Transformer architecture, there are both encoder and decoder modules. The decision to use an encoder-only architecture in BERT suggests a primary emphasis on understanding input sequences rather than generating output sequences.\n\n\n## Table of Contents\n\n- [Introduction](#introduction)\n- [Features](#features)\n- [Getting Started](#getting-started)\n- [Contributing](#contributing)\n- [License](#license)\n\n## Introduction\n\nAI-generated content is becoming increasingly sophisticated, making it challenging to distinguish between genuine and computer-generated text. Our project aims to tackle this issue by leveraging the power of BERT (Bidirectional Encoder Representations from Transformers) to identify and flag AI-generated text segments. Whether you're dealing with chatbots, articles, or social media posts, our solution offers accurate detection, ensuring the authenticity of digital content.\n\n## Features\n\n- **BERT-Powered Detection:** We utilize state-of-the-art BERT models to analyze the semantic context and linguistic nuances, enabling precise identification of AI-generated text.\n- **Effortless Integration:** Seamlessly integrate our solution into your existing applications or workflows, ensuring hassle-free implementation for developers and researchers.\n- **High Accuracy:** Our model is meticulously trained and fine-tuned to achieve high accuracy, minimizing false positives and false negatives for reliable results.\n- **User-Friendly Interface:** With intuitive interfaces and clear instructions, users can easily navigate and utilize the detection tool without any technical expertise.\n\n\n## How It Works\n\nOur solution follows a comprehensive approach to AI-generated text detection:\n\n**Data Preprocessing:** We clean and preprocess the textual data, removing noise and irrelevant information to enhance the accuracy of our model.\n\n**BERT Tokenization:** Leveraging the BERT tokenizer, we encode the preprocessed text, preparing it for input into our detection model.\n\n**Model Training:** Using a BERT-based sequence classification model, we train the system to distinguish between genuine and AI-generated text with a high degree of accuracy.\n\n**Predictions:** Once trained, the model generates predictions for test data, highlighting potential AI-generated content segments.\n\n**Result Analysis:** The results are saved in a CSV file, allowing users to review and analyze the detected segments along with their confidence scores.\n\n## Contributing\n\nWe welcome contributions from the community! Whether you're a seasoned developer, a data science enthusiast, or a domain expert, your insights and expertise can enhance our project. \n\nLooking forward to get connect to some amazing peps out there!💃🏻\n",
   "metadata": {}
  },
  {
   "cell_type": "code",
   "source": [
    "# Import necessary libraries\n",
    "import pandas as pd\n",
    "import numpy as np\n",
    "import matplotlib.pyplot as plt\n",
    "import seaborn as sns\n",
    "import re\n",
    "from nltk.corpus import stopwords\n",
    "from sklearn.model_selection import train_test_split\n",
    "from sklearn.metrics import accuracy_score, classification_report\n",
    "from torch.optim.adamw import adamw\n",
    "from transformers import BertTokenizer, BertForSequenceClassification\n",
    "import torch\n",
    "from torch.utils.data import DataLoader, TensorDataset, random_split\n"
   ],
   "metadata": {
    "execution": {
     "iopub.status.busy": "2023-11-03T07:14:16.632075Z",
     "iopub.execute_input": "2023-11-03T07:14:16.632771Z",
     "iopub.status.idle": "2023-11-03T07:14:39.131486Z",
     "shell.execute_reply.started": "2023-11-03T07:14:16.632734Z",
     "shell.execute_reply": "2023-11-03T07:14:39.130567Z"
    },
    "trusted": true,
    "ExecuteTime": {
     "end_time": "2025-04-01T12:59:22.388622Z",
     "start_time": "2025-04-01T12:59:22.380292Z"
    }
   },
   "outputs": [],
   "execution_count": 58
  },
  {
   "metadata": {
    "ExecuteTime": {
     "end_time": "2025-04-01T12:59:25.808787Z",
     "start_time": "2025-04-01T12:59:25.112671Z"
    }
   },
   "cell_type": "code",
   "source": [
    "# do a train-test split on the essays\n",
    "essays = pd.read_csv(\"kaggle/input/Training_Essay_Data.csv\")\n",
    "\n",
    "# sample a small subset of the essays for faster training\n",
    "essays = essays.sample(frac=0.01, random_state=42)\n",
    "\n",
    "\n",
    "train_essays, test_essays = train_test_split(essays, test_size=0.2, random_state=42)\n",
    "\n",
    "\n",
    "# save the train and test datasets to CSV files in the input directory\n",
    "train_essays.to_csv(\"kaggle/input/train_essays.csv\", index=False)\n",
    "test_essays.to_csv(\"kaggle/input/test_essays.csv\", index=False)\n"
   ],
   "outputs": [],
   "execution_count": 59
  },
  {
   "cell_type": "code",
   "source": [
    "# Load the training and testing datasets\n",
    "train_essays = pd.read_csv(\"kaggle/input/train_essays.csv\")\n",
    "test_essays = pd.read_csv(\"kaggle/input/test_essays.csv\")"
   ],
   "metadata": {
    "execution": {
     "iopub.status.busy": "2023-11-03T07:14:39.133375Z",
     "iopub.execute_input": "2023-11-03T07:14:39.133694Z",
     "iopub.status.idle": "2023-11-03T07:14:39.243035Z",
     "shell.execute_reply.started": "2023-11-03T07:14:39.133666Z",
     "shell.execute_reply": "2023-11-03T07:14:39.242196Z"
    },
    "trusted": true,
    "ExecuteTime": {
     "end_time": "2025-04-01T12:59:27.519537Z",
     "start_time": "2025-04-01T12:59:27.476912Z"
    }
   },
   "outputs": [],
   "execution_count": 60
  },
  {
   "cell_type": "code",
   "source": "# Explore the training data\ntrain_essays.info()",
   "metadata": {
    "execution": {
     "iopub.status.busy": "2023-11-03T07:14:39.244294Z",
     "iopub.execute_input": "2023-11-03T07:14:39.24461Z",
     "iopub.status.idle": "2023-11-03T07:14:39.289996Z",
     "shell.execute_reply.started": "2023-11-03T07:14:39.244583Z",
     "shell.execute_reply": "2023-11-03T07:14:39.28905Z"
    },
    "trusted": true,
    "ExecuteTime": {
     "end_time": "2025-04-01T12:59:28.952021Z",
     "start_time": "2025-04-01T12:59:28.915069Z"
    }
   },
   "outputs": [
    {
     "name": "stdout",
     "output_type": "stream",
     "text": [
      "<class 'pandas.core.frame.DataFrame'>\n",
      "RangeIndex: 232 entries, 0 to 231\n",
      "Data columns (total 2 columns):\n",
      " #   Column     Non-Null Count  Dtype \n",
      "---  ------     --------------  ----- \n",
      " 0   text       232 non-null    object\n",
      " 1   generated  232 non-null    int64 \n",
      "dtypes: int64(1), object(1)\n",
      "memory usage: 3.8+ KB\n"
     ]
    }
   ],
   "execution_count": 61
  },
  {
   "cell_type": "code",
   "source": "train_essays.head()",
   "metadata": {
    "execution": {
     "iopub.status.busy": "2023-11-03T07:14:39.291379Z",
     "iopub.execute_input": "2023-11-03T07:14:39.291662Z",
     "iopub.status.idle": "2023-11-03T07:14:39.30842Z",
     "shell.execute_reply.started": "2023-11-03T07:14:39.291637Z",
     "shell.execute_reply": "2023-11-03T07:14:39.307524Z"
    },
    "trusted": true,
    "ExecuteTime": {
     "end_time": "2025-04-01T12:59:31.564595Z",
     "start_time": "2025-04-01T12:59:31.556011Z"
    }
   },
   "outputs": [
    {
     "data": {
      "text/plain": [
       "                                                text  generated\n",
       "0  I gonna maybe take a long summer but i feel li...          0\n",
       "1  Have you ever met someone, or an interviewer, ...          0\n",
       "2  The challenge of pursuiting and exploring Venu...          0\n",
       "3  The Benefits of Volunteering at Local Animal S...          1\n",
       "4  The consequences of a failure to educate are e...          1"
      ],
      "text/html": [
       "<div>\n",
       "<style scoped>\n",
       "    .dataframe tbody tr th:only-of-type {\n",
       "        vertical-align: middle;\n",
       "    }\n",
       "\n",
       "    .dataframe tbody tr th {\n",
       "        vertical-align: top;\n",
       "    }\n",
       "\n",
       "    .dataframe thead th {\n",
       "        text-align: right;\n",
       "    }\n",
       "</style>\n",
       "<table border=\"1\" class=\"dataframe\">\n",
       "  <thead>\n",
       "    <tr style=\"text-align: right;\">\n",
       "      <th></th>\n",
       "      <th>text</th>\n",
       "      <th>generated</th>\n",
       "    </tr>\n",
       "  </thead>\n",
       "  <tbody>\n",
       "    <tr>\n",
       "      <th>0</th>\n",
       "      <td>I gonna maybe take a long summer but i feel li...</td>\n",
       "      <td>0</td>\n",
       "    </tr>\n",
       "    <tr>\n",
       "      <th>1</th>\n",
       "      <td>Have you ever met someone, or an interviewer, ...</td>\n",
       "      <td>0</td>\n",
       "    </tr>\n",
       "    <tr>\n",
       "      <th>2</th>\n",
       "      <td>The challenge of pursuiting and exploring Venu...</td>\n",
       "      <td>0</td>\n",
       "    </tr>\n",
       "    <tr>\n",
       "      <th>3</th>\n",
       "      <td>The Benefits of Volunteering at Local Animal S...</td>\n",
       "      <td>1</td>\n",
       "    </tr>\n",
       "    <tr>\n",
       "      <th>4</th>\n",
       "      <td>The consequences of a failure to educate are e...</td>\n",
       "      <td>1</td>\n",
       "    </tr>\n",
       "  </tbody>\n",
       "</table>\n",
       "</div>"
      ]
     },
     "execution_count": 62,
     "metadata": {},
     "output_type": "execute_result"
    }
   ],
   "execution_count": 62
  },
  {
   "cell_type": "code",
   "source": "# Check for class balance\nsns.countplot(data=train_essays, x='generated')\nplt.show()\n",
   "metadata": {
    "execution": {
     "iopub.status.busy": "2023-11-03T07:14:39.311303Z",
     "iopub.execute_input": "2023-11-03T07:14:39.311614Z",
     "iopub.status.idle": "2023-11-03T07:14:39.582052Z",
     "shell.execute_reply.started": "2023-11-03T07:14:39.311589Z",
     "shell.execute_reply": "2023-11-03T07:14:39.580949Z"
    },
    "trusted": true,
    "ExecuteTime": {
     "end_time": "2025-04-01T12:59:33.698749Z",
     "start_time": "2025-04-01T12:59:33.546901Z"
    }
   },
   "outputs": [
    {
     "data": {
      "text/plain": [
       "<Figure size 640x480 with 1 Axes>"
      ],
      "image/png": "[encoded data removed]"
     },
     "metadata": {},
     "output_type": "display_data"
    }
   ],
   "execution_count": 63
  },
  {
   "metadata": {
    "ExecuteTime": {
     "end_time": "2025-04-01T12:59:36.772523Z",
     "start_time": "2025-04-01T12:59:36.765120Z"
    }
   },
   "cell_type": "code",
   "source": [
    "import nltk\n",
    "nltk.download('stopwords')"
   ],
   "outputs": [
    {
     "name": "stderr",
     "output_type": "stream",
     "text": [
      "[nltk_data] Downloading package stopwords to\n",
      "[nltk_data]     C:\\Users\\david\\AppData\\Roaming\\nltk_data...\n",
      "[nltk_data]   Package stopwords is already up-to-date!\n"
     ]
    },
    {
     "data": {
      "text/plain": [
       "True"
      ]
     },
     "execution_count": 64,
     "metadata": {},
     "output_type": "execute_result"
    }
   ],
   "execution_count": 64
  },
  {
   "cell_type": "code",
   "source": "# Text Preprocessing\nstop_words = set(stopwords.words('english'))\n\ndef clean_text(text):\n    text = re.sub(r'[^\\w\\s]', '', text)  # Remove punctuations\n    words = text.split()  # Tokenize\n    words = [word.lower() for word in words if word.isalpha()]  # Lowercase and remove non-alphabetic words\n    words = [word for word in words if word not in stop_words]  # Remove stop words\n    return ' '.join(words)\n\ntrain_essays['clean_text'] = train_essays['text'].apply(clean_text)",
   "metadata": {
    "execution": {
     "iopub.status.busy": "2023-11-03T07:14:39.58329Z",
     "iopub.execute_input": "2023-11-03T07:14:39.583606Z",
     "iopub.status.idle": "2023-11-03T07:14:40.083101Z",
     "shell.execute_reply.started": "2023-11-03T07:14:39.583577Z",
     "shell.execute_reply": "2023-11-03T07:14:40.082044Z"
    },
    "trusted": true,
    "ExecuteTime": {
     "end_time": "2025-04-01T12:59:39.471920Z",
     "start_time": "2025-04-01T12:59:39.436235Z"
    }
   },
   "outputs": [],
   "execution_count": 65
  },
  {
   "cell_type": "code",
   "source": "# Split the data into training and validation sets\nX_train, X_val, y_train, y_val = train_test_split(train_essays['clean_text'], train_essays['generated'], test_size=0.2, random_state=42)\n",
   "metadata": {
    "execution": {
     "iopub.status.busy": "2023-11-03T07:14:40.084977Z",
     "iopub.execute_input": "2023-11-03T07:14:40.085405Z",
     "iopub.status.idle": "2023-11-03T07:14:40.092651Z",
     "shell.execute_reply.started": "2023-11-03T07:14:40.085371Z",
     "shell.execute_reply": "2023-11-03T07:14:40.0916Z"
    },
    "trusted": true,
    "ExecuteTime": {
     "end_time": "2025-04-01T12:59:40.968123Z",
     "start_time": "2025-04-01T12:59:40.958796Z"
    }
   },
   "outputs": [],
   "execution_count": 66
  },
  {
   "cell_type": "code",
   "source": "# Tokenization and Encoding for BERT\ntokenizer = BertTokenizer.from_pretrained('bert-base-uncased', do_lower_case=True, padding=True, truncation=True, max_length=128)\n",
   "metadata": {
    "execution": {
     "iopub.status.busy": "2023-11-03T07:14:40.093831Z",
     "iopub.execute_input": "2023-11-03T07:14:40.094139Z",
     "iopub.status.idle": "2023-11-03T07:14:40.917295Z",
     "shell.execute_reply.started": "2023-11-03T07:14:40.094112Z",
     "shell.execute_reply": "2023-11-03T07:14:40.916492Z"
    },
    "trusted": true,
    "ExecuteTime": {
     "end_time": "2025-04-01T12:59:43.660039Z",
     "start_time": "2025-04-01T12:59:42.991490Z"
    }
   },
   "outputs": [],
   "execution_count": 67
  },
  {
   "metadata": {
    "ExecuteTime": {
     "end_time": "2025-04-01T12:59:45.622659Z",
     "start_time": "2025-04-01T12:59:45.619136Z"
    }
   },
   "cell_type": "code",
   "source": "print(torch.__version__)\n",
   "outputs": [
    {
     "name": "stdout",
     "output_type": "stream",
     "text": [
      "2.6.0+cpu\n"
     ]
    }
   ],
   "execution_count": 68
  },
  {
   "cell_type": "code",
   "source": "encoded_train = tokenizer(X_train.tolist(), padding=True, truncation=True, return_tensors='pt')\nencoded_val = tokenizer(X_val.tolist(), padding=True, truncation=True, return_tensors='pt')\n",
   "metadata": {
    "execution": {
     "iopub.status.busy": "2023-11-03T07:14:40.91867Z",
     "iopub.execute_input": "2023-11-03T07:14:40.918948Z",
     "iopub.status.idle": "2023-11-03T07:15:00.58084Z",
     "shell.execute_reply.started": "2023-11-03T07:14:40.918923Z",
     "shell.execute_reply": "2023-11-03T07:15:00.579879Z"
    },
    "trusted": true,
    "ExecuteTime": {
     "end_time": "2025-04-01T12:59:50.104862Z",
     "start_time": "2025-04-01T12:59:49.080923Z"
    }
   },
   "outputs": [],
   "execution_count": 69
  },
  {
   "cell_type": "code",
   "source": "# Convert labels to tensors\ntrain_labels = torch.tensor(y_train.values)\nval_labels = torch.tensor(y_val.values)\n",
   "metadata": {
    "execution": {
     "iopub.status.busy": "2023-11-03T07:15:00.582009Z",
     "iopub.execute_input": "2023-11-03T07:15:00.582315Z",
     "iopub.status.idle": "2023-11-03T07:15:00.608951Z",
     "shell.execute_reply.started": "2023-11-03T07:15:00.582288Z",
     "shell.execute_reply": "2023-11-03T07:15:00.607971Z"
    },
    "trusted": true,
    "ExecuteTime": {
     "end_time": "2025-04-01T12:59:51.324944Z",
     "start_time": "2025-04-01T12:59:51.316994Z"
    }
   },
   "outputs": [],
   "execution_count": 70
  },
  {
   "cell_type": "code",
   "source": "# Create TensorDatasets\ntrain_dataset = TensorDataset(encoded_train['input_ids'], encoded_train['attention_mask'], train_labels)\nval_dataset = TensorDataset(encoded_val['input_ids'], encoded_val['attention_mask'], val_labels)\n",
   "metadata": {
    "execution": {
     "iopub.status.busy": "2023-11-03T07:15:00.610743Z",
     "iopub.execute_input": "2023-11-03T07:15:00.611121Z",
     "iopub.status.idle": "2023-11-03T07:15:00.61616Z",
     "shell.execute_reply.started": "2023-11-03T07:15:00.611087Z",
     "shell.execute_reply": "2023-11-03T07:15:00.615127Z"
    },
    "trusted": true,
    "ExecuteTime": {
     "end_time": "2025-04-01T12:59:52.459590Z",
     "start_time": "2025-04-01T12:59:52.455094Z"
    }
   },
   "outputs": [],
   "execution_count": 71
  },
  {
   "cell_type": "code",
   "source": "# DataLoader for efficient processing\ntrain_loader = DataLoader(train_dataset, batch_size=16, shuffle=True)\nval_loader = DataLoader(val_dataset, batch_size=16, shuffle=False)",
   "metadata": {
    "execution": {
     "iopub.status.busy": "2023-11-03T07:15:00.617431Z",
     "iopub.execute_input": "2023-11-03T07:15:00.617724Z",
     "iopub.status.idle": "2023-11-03T07:15:00.629784Z",
     "shell.execute_reply.started": "2023-11-03T07:15:00.617692Z",
     "shell.execute_reply": "2023-11-03T07:15:00.628994Z"
    },
    "trusted": true,
    "ExecuteTime": {
     "end_time": "2025-04-01T12:59:54.371681Z",
     "start_time": "2025-04-01T12:59:54.359044Z"
    }
   },
   "outputs": [],
   "execution_count": 72
  },
  {
   "cell_type": "code",
   "source": "# Define the BERT model for sequence classification\nmodel = BertForSequenceClassification.from_pretrained('bert-base-uncased', num_labels=2)\ndevice = torch.device(\"cuda\" if torch.cuda.is_available() else \"cpu\")\nmodel.to(device)",
   "metadata": {
    "execution": {
     "iopub.status.busy": "2023-11-03T07:15:00.630906Z",
     "iopub.execute_input": "2023-11-03T07:15:00.631235Z",
     "iopub.status.idle": "2023-11-03T07:15:12.290208Z",
     "shell.execute_reply.started": "2023-11-03T07:15:00.6312Z",
     "shell.execute_reply": "2023-11-03T07:15:12.28924Z"
    },
    "trusted": true,
    "ExecuteTime": {
     "end_time": "2025-04-01T12:59:56.215807Z",
     "start_time": "2025-04-01T12:59:55.822261Z"
    }
   },
   "outputs": [
    {
     "name": "stderr",
     "output_type": "stream",
     "text": [
      "Some weights of BertForSequenceClassification were not initialized from the model checkpoint at bert-base-uncased and are newly initialized: ['classifier.bias', 'classifier.weight']\n",
      "You should probably TRAIN this model on a down-stream task to be able to use it for predictions and inference.\n"
     ]
    },
    {
     "data": {
      "text/plain": [
       "BertForSequenceClassification(\n",
       "  (bert): BertModel(\n",
       "    (embeddings): BertEmbeddings(\n",
       "      (word_embeddings): Embedding(30522, 768, padding_idx=0)\n",
       "      (position_embeddings): Embedding(512, 768)\n",
       "      (token_type_embeddings): Embedding(2, 768)\n",
       "      (LayerNorm): LayerNorm((768,), eps=1e-12, elementwise_affine=True)\n",
       "      (dropout): Dropout(p=0.1, inplace=False)\n",
       "    )\n",
       "    (encoder): BertEncoder(\n",
       "      (layer): ModuleList(\n",
       "        (0-11): 12 x BertLayer(\n",
       "          (attention): BertAttention(\n",
       "            (self): BertSdpaSelfAttention(\n",
       "              (query): Linear(in_features=768, out_features=768, bias=True)\n",
       "              (key): Linear(in_features=768, out_features=768, bias=True)\n",
       "              (value): Linear(in_features=768, out_features=768, bias=True)\n",
       "              (dropout): Dropout(p=0.1, inplace=False)\n",
       "            )\n",
       "            (output): BertSelfOutput(\n",
       "              (dense): Linear(in_features=768, out_features=768, bias=True)\n",
       "              (LayerNorm): LayerNorm((768,), eps=1e-12, elementwise_affine=True)\n",
       "              (dropout): Dropout(p=0.1, inplace=False)\n",
       "            )\n",
       "          )\n",
       "          (intermediate): BertIntermediate(\n",
       "            (dense): Linear(in_features=768, out_features=3072, bias=True)\n",
       "            (intermediate_act_fn): GELUActivation()\n",
       "          )\n",
       "          (output): BertOutput(\n",
       "            (dense): Linear(in_features=3072, out_features=768, bias=True)\n",
       "            (LayerNorm): LayerNorm((768,), eps=1e-12, elementwise_affine=True)\n",
       "            (dropout): Dropout(p=0.1, inplace=False)\n",
       "          )\n",
       "        )\n",
       "      )\n",
       "    )\n",
       "    (pooler): BertPooler(\n",
       "      (dense): Linear(in_features=768, out_features=768, bias=True)\n",
       "      (activation): Tanh()\n",
       "    )\n",
       "  )\n",
       "  (dropout): Dropout(p=0.1, inplace=False)\n",
       "  (classifier): Linear(in_features=768, out_features=2, bias=True)\n",
       ")"
      ]
     },
     "execution_count": 73,
     "metadata": {},
     "output_type": "execute_result"
    }
   ],
   "execution_count": 73
  },
  {
   "metadata": {
    "ExecuteTime": {
     "end_time": "2025-04-01T13:00:02.628354Z",
     "start_time": "2025-04-01T13:00:02.624776Z"
    }
   },
   "cell_type": "code",
   "source": [
    "from transformers.optimization import AdamW\n",
    "\n"
   ],
   "outputs": [],
   "execution_count": 74
  },
  {
   "cell_type": "code",
   "source": [
    "# Define optimizer and learning rate scheduler\n",
    "optimizer = AdamW(model.parameters(), lr=2e-5, correct_bias=False)\n",
    "epochs = 10"
   ],
   "metadata": {
    "execution": {
     "iopub.status.busy": "2023-11-03T07:15:12.293406Z",
     "iopub.execute_input": "2023-11-03T07:15:12.293719Z",
     "iopub.status.idle": "2023-11-03T07:15:12.304608Z",
     "shell.execute_reply.started": "2023-11-03T07:15:12.293692Z",
     "shell.execute_reply": "2023-11-03T07:15:12.303595Z"
    },
    "trusted": true,
    "ExecuteTime": {
     "end_time": "2025-04-01T13:00:09.217119Z",
     "start_time": "2025-04-01T13:00:09.120315Z"
    }
   },
   "outputs": [
    {
     "name": "stderr",
     "output_type": "stream",
     "text": [
      "C:\\Users\\david\\anaconda3\\Lib\\site-packages\\transformers\\optimization.py:411: FutureWarning: This implementation of AdamW is deprecated and will be removed in a future version. Use the PyTorch implementation torch.optim.AdamW instead, or set `no_deprecation_warning=True` to disable this warning\n",
      "  warnings.warn(\n"
     ]
    }
   ],
   "execution_count": 75
  },
  {
   "cell_type": "code",
   "source": [
    "import time\n",
    "\n",
    "# Training loop with timing\n",
    "for epoch in range(epochs):\n",
    "    start_time = time.time()\n",
    "    model.train()\n",
    "    total_loss = 0\n",
    "\n",
    "    for batch in train_loader:\n",
    "        input_ids, attention_mask, labels = batch\n",
    "        input_ids, attention_mask, labels = input_ids.to(device), attention_mask.to(device), labels.to(device)\n",
    "\n",
    "        optimizer.zero_grad()\n",
    "\n",
    "        outputs = model(input_ids, attention_mask=attention_mask, labels=labels)\n",
    "        loss = outputs.loss\n",
    "        total_loss += loss.item()\n",
    "\n",
    "        loss.backward()\n",
    "        torch.nn.utils.clip_grad_norm_(model.parameters(), 1.0)  # Gradient clipping to avoid exploding gradients\n",
    "        optimizer.step()\n",
    "\n",
    "    avg_train_loss = total_loss / len(train_loader)\n",
    "    epoch_time = time.time() - start_time\n",
    "    print(f\"Epoch {epoch + 1}/{epochs}, Average Training Loss: {avg_train_loss:.2f}, Time: {epoch_time:.2f} seconds\")"
   ],
   "metadata": {
    "execution": {
     "iopub.status.busy": "2023-11-03T07:15:12.305694Z",
     "iopub.execute_input": "2023-11-03T07:15:12.306352Z",
     "iopub.status.idle": "2023-11-03T07:31:37.582938Z",
     "shell.execute_reply.started": "2023-11-03T07:15:12.306314Z",
     "shell.execute_reply": "2023-11-03T07:31:37.581668Z"
    },
    "trusted": true,
    "jupyter": {
     "is_executing": true
    },
    "ExecuteTime": {
     "start_time": "2025-04-01T13:02:20.898472Z"
    }
   },
   "outputs": [],
   "execution_count": null
  },
  {
   "cell_type": "code",
   "source": "# Validation loop\nmodel.eval()\nval_preds = []\nval_labels = []\n\nwith torch.no_grad():\n    for batch in val_loader:\n        input_ids, attention_mask, labels = batch\n        input_ids, attention_mask, labels = input_ids.to(device), attention_mask.to(device), labels.to(device)\n\n        outputs = model(input_ids, attention_mask=attention_mask)\n        logits = outputs.logits\n\n        val_preds.extend(torch.argmax(logits, dim=1).cpu().numpy())\n        val_labels.extend(labels.cpu().numpy())\n",
   "metadata": {
    "execution": {
     "iopub.status.busy": "2023-11-03T07:31:37.584295Z",
     "iopub.execute_input": "2023-11-03T07:31:37.584615Z",
     "iopub.status.idle": "2023-11-03T07:31:46.483805Z",
     "shell.execute_reply.started": "2023-11-03T07:31:37.584587Z",
     "shell.execute_reply": "2023-11-03T07:31:46.482678Z"
    },
    "trusted": true
   },
   "execution_count": null,
   "outputs": []
  },
  {
   "cell_type": "code",
   "source": "# Calculate validation accuracy\nval_accuracy = accuracy_score(val_labels, val_preds)\nprint(f\"Validation Accuracy: {val_accuracy:.2f}\")",
   "metadata": {
    "execution": {
     "iopub.status.busy": "2023-11-03T07:31:46.486072Z",
     "iopub.execute_input": "2023-11-03T07:31:46.487025Z",
     "iopub.status.idle": "2023-11-03T07:31:46.493984Z",
     "shell.execute_reply.started": "2023-11-03T07:31:46.486983Z",
     "shell.execute_reply": "2023-11-03T07:31:46.492879Z"
    },
    "trusted": true
   },
   "execution_count": null,
   "outputs": []
  },
  {
   "cell_type": "code",
   "source": "# Test data processing\ntest_inputs = tokenizer(test_essays['text'].tolist(), padding=True, truncation=True, return_tensors='pt')\n\n# Move input tensor to the same device as the model\ntest_inputs = {key: value.to(device) for key, value in test_inputs.items()}\n\n# Generate predictions using your trained model\nwith torch.no_grad():\n    outputs = model(**test_inputs)\n    logits = outputs.logits\n\n# Assuming the first column of logits corresponds to the negative class (non-AI-generated) \n# and the second column corresponds to the positive class (AI-generated)\npredictions = torch.softmax(logits, dim=1)[:, 1].cpu().numpy()  # Move predictions back to CPU\n\n# Create a submission DataFrame with essay IDs and corresponding predictions\nsubmission = pd.DataFrame({\n    'id': test_essays['id'],\n    'generated': predictions\n})\n\n# Save the submission DataFrame to a CSV file\nsubmission.to_csv('/kaggle/working/submission.csv', index=False)\n",
   "metadata": {
    "execution": {
     "iopub.status.busy": "2023-11-03T07:31:46.495176Z",
     "iopub.execute_input": "2023-11-03T07:31:46.495561Z",
     "iopub.status.idle": "2023-11-03T07:31:46.545354Z",
     "shell.execute_reply.started": "2023-11-03T07:31:46.495523Z",
     "shell.execute_reply": "2023-11-03T07:31:46.544334Z"
    },
    "trusted": true
   },
   "execution_count": null,
   "outputs": []
  },
  {
   "cell_type": "code",
   "source": "",
   "metadata": {},
   "execution_count": null,
   "outputs": []
  }
 ]
}
